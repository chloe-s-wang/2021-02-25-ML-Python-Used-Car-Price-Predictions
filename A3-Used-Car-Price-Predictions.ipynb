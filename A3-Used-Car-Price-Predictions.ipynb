{
 "cells": [
  {
   "cell_type": "markdown",
   "metadata": {},
   "source": [
    "### Copyright © 2021, Chloe Wang"
   ]
  },
  {
   "cell_type": "markdown",
   "metadata": {},
   "source": [
    "### Summary of Results"
   ]
  },
  {
   "cell_type": "markdown",
   "metadata": {},
   "source": [
    "**Training accuracy**: 0.90239\\\n",
    "**Test accuracy**: 0.90073"
   ]
  },
  {
   "cell_type": "markdown",
   "metadata": {},
   "source": [
    "**Question 1**\\\n",
    "Uses training data to predict whether a used car is <$12,000, and then uses available features to predict this constructed binary variable (codes below). \n",
    "\n",
    "**Question 2**\\\n",
    "Illustrates the most important features in constructing our predictions:\\\n",
    "![A3_ImportantFeats](A3_ImportantFeatures.png)\n",
    "\n",
    "\n",
    "**Question 3**\\\n",
    "A graph that shows the training and test error-flexibility tradeoff (codes below).\\\n",
    "![A3_ErrorFlexTradeoff](A3_ErrorFlexibilityTradeoff.png)"
   ]
  },
  {
   "cell_type": "markdown",
   "metadata": {},
   "source": [
    "### Confusion Matrix of Training Data\n",
    "![A3_CMTrain](A3_ConfusionMatrix_Train.png)"
   ]
  },
  {
   "cell_type": "markdown",
   "metadata": {},
   "source": [
    "### Confusion Matrix for Test Data\n",
    "![A3_CMTest](A3_ConfusionMatrix_Test.png)"
   ]
  },
  {
   "cell_type": "markdown",
   "metadata": {},
   "source": [
    "# Codes"
   ]
  },
  {
   "cell_type": "code",
   "execution_count": 1,
   "metadata": {
    "id": "ZYL5dtzG-zXT"
   },
   "outputs": [],
   "source": [
    "# importing commonly used libraries\n",
    "import pandas as pd\n",
    "import numpy as np\n",
    "import matplotlib.pyplot as plt\n",
    "\n",
    "# libaries for modelling and preprocessing\n",
    "from sklearn.preprocessing import StandardScaler\n",
    "from sklearn.model_selection import train_test_split, cross_val_score, cross_validate\n",
    "from sklearn.discriminant_analysis import LinearDiscriminantAnalysis\n",
    "from sklearn.neighbors import KNeighborsClassifier\n",
    "from sklearn.linear_model import LogisticRegression\n",
    "from sklearn.tree import DecisionTreeClassifier"
   ]
  },
  {
   "cell_type": "code",
   "execution_count": 52,
   "metadata": {
    "id": "k76175qJ-9m3"
   },
   "outputs": [],
   "source": [
    "# reading the two csv files\n",
    "small_df = pd.read_csv('6Z. final_predcomp_training_data_small.csv')\n",
    "large_df = pd.read_csv('6Z. final_predcomp_training_data_large.csv')"
   ]
  },
  {
   "cell_type": "code",
   "execution_count": 53,
   "metadata": {
    "colab": {
     "base_uri": "https://localhost:8080/",
     "height": 288
    },
    "id": "d-m6OPlc_0hx",
    "outputId": "3d5b140e-ec49-486e-c484-4a731eb18707"
   },
   "outputs": [
    {
     "data": {
      "text/html": [
       "<div>\n",
       "<style scoped>\n",
       "    .dataframe tbody tr th:only-of-type {\n",
       "        vertical-align: middle;\n",
       "    }\n",
       "\n",
       "    .dataframe tbody tr th {\n",
       "        vertical-align: top;\n",
       "    }\n",
       "\n",
       "    .dataframe thead th {\n",
       "        text-align: right;\n",
       "    }\n",
       "</style>\n",
       "<table border=\"1\" class=\"dataframe\">\n",
       "  <thead>\n",
       "    <tr style=\"text-align: right;\">\n",
       "      <th></th>\n",
       "      <th>id</th>\n",
       "      <th>price</th>\n",
       "      <th>year</th>\n",
       "      <th>odometer</th>\n",
       "      <th>cylinders</th>\n",
       "      <th>description_length</th>\n",
       "      <th>description_credit</th>\n",
       "      <th>description_owner</th>\n",
       "      <th>description_badcredit</th>\n",
       "    </tr>\n",
       "  </thead>\n",
       "  <tbody>\n",
       "    <tr>\n",
       "      <th>count</th>\n",
       "      <td>2.999900e+04</td>\n",
       "      <td>29999.000000</td>\n",
       "      <td>29933.000000</td>\n",
       "      <td>26728.000000</td>\n",
       "      <td>19101.000000</td>\n",
       "      <td>29217.000000</td>\n",
       "      <td>29999.000000</td>\n",
       "      <td>29999.000000</td>\n",
       "      <td>29999.000000</td>\n",
       "    </tr>\n",
       "    <tr>\n",
       "      <th>mean</th>\n",
       "      <td>7.235216e+09</td>\n",
       "      <td>15879.012534</td>\n",
       "      <td>2010.724184</td>\n",
       "      <td>94720.290482</td>\n",
       "      <td>5.890425</td>\n",
       "      <td>2352.681521</td>\n",
       "      <td>0.413047</td>\n",
       "      <td>0.187906</td>\n",
       "      <td>0.155205</td>\n",
       "    </tr>\n",
       "    <tr>\n",
       "      <th>std</th>\n",
       "      <td>4.594456e+06</td>\n",
       "      <td>11152.826912</td>\n",
       "      <td>8.579819</td>\n",
       "      <td>61748.952567</td>\n",
       "      <td>1.609066</td>\n",
       "      <td>2120.058619</td>\n",
       "      <td>0.492389</td>\n",
       "      <td>0.390644</td>\n",
       "      <td>0.362106</td>\n",
       "    </tr>\n",
       "    <tr>\n",
       "      <th>min</th>\n",
       "      <td>7.213844e+09</td>\n",
       "      <td>2000.000000</td>\n",
       "      <td>1923.000000</td>\n",
       "      <td>0.000000</td>\n",
       "      <td>3.000000</td>\n",
       "      <td>0.000000</td>\n",
       "      <td>0.000000</td>\n",
       "      <td>0.000000</td>\n",
       "      <td>0.000000</td>\n",
       "    </tr>\n",
       "    <tr>\n",
       "      <th>25%</th>\n",
       "      <td>7.231904e+09</td>\n",
       "      <td>6900.000000</td>\n",
       "      <td>2008.000000</td>\n",
       "      <td>42790.000000</td>\n",
       "      <td>4.000000</td>\n",
       "      <td>437.000000</td>\n",
       "      <td>0.000000</td>\n",
       "      <td>0.000000</td>\n",
       "      <td>0.000000</td>\n",
       "    </tr>\n",
       "    <tr>\n",
       "      <th>50%</th>\n",
       "      <td>7.236398e+09</td>\n",
       "      <td>12990.000000</td>\n",
       "      <td>2013.000000</td>\n",
       "      <td>90656.000000</td>\n",
       "      <td>6.000000</td>\n",
       "      <td>1808.000000</td>\n",
       "      <td>0.000000</td>\n",
       "      <td>0.000000</td>\n",
       "      <td>0.000000</td>\n",
       "    </tr>\n",
       "    <tr>\n",
       "      <th>75%</th>\n",
       "      <td>7.239320e+09</td>\n",
       "      <td>22990.000000</td>\n",
       "      <td>2016.000000</td>\n",
       "      <td>135740.250000</td>\n",
       "      <td>8.000000</td>\n",
       "      <td>4140.000000</td>\n",
       "      <td>1.000000</td>\n",
       "      <td>0.000000</td>\n",
       "      <td>0.000000</td>\n",
       "    </tr>\n",
       "    <tr>\n",
       "      <th>max</th>\n",
       "      <td>7.241018e+09</td>\n",
       "      <td>50000.000000</td>\n",
       "      <td>2021.000000</td>\n",
       "      <td>500000.000000</td>\n",
       "      <td>12.000000</td>\n",
       "      <td>9994.000000</td>\n",
       "      <td>1.000000</td>\n",
       "      <td>1.000000</td>\n",
       "      <td>1.000000</td>\n",
       "    </tr>\n",
       "  </tbody>\n",
       "</table>\n",
       "</div>"
      ],
      "text/plain": [
       "                 id         price          year       odometer     cylinders  \\\n",
       "count  2.999900e+04  29999.000000  29933.000000   26728.000000  19101.000000   \n",
       "mean   7.235216e+09  15879.012534   2010.724184   94720.290482      5.890425   \n",
       "std    4.594456e+06  11152.826912      8.579819   61748.952567      1.609066   \n",
       "min    7.213844e+09   2000.000000   1923.000000       0.000000      3.000000   \n",
       "25%    7.231904e+09   6900.000000   2008.000000   42790.000000      4.000000   \n",
       "50%    7.236398e+09  12990.000000   2013.000000   90656.000000      6.000000   \n",
       "75%    7.239320e+09  22990.000000   2016.000000  135740.250000      8.000000   \n",
       "max    7.241018e+09  50000.000000   2021.000000  500000.000000     12.000000   \n",
       "\n",
       "       description_length  description_credit  description_owner  \\\n",
       "count        29217.000000        29999.000000       29999.000000   \n",
       "mean          2352.681521            0.413047           0.187906   \n",
       "std           2120.058619            0.492389           0.390644   \n",
       "min              0.000000            0.000000           0.000000   \n",
       "25%            437.000000            0.000000           0.000000   \n",
       "50%           1808.000000            0.000000           0.000000   \n",
       "75%           4140.000000            1.000000           0.000000   \n",
       "max           9994.000000            1.000000           1.000000   \n",
       "\n",
       "       description_badcredit  \n",
       "count           29999.000000  \n",
       "mean                0.155205  \n",
       "std                 0.362106  \n",
       "min                 0.000000  \n",
       "25%                 0.000000  \n",
       "50%                 0.000000  \n",
       "75%                 0.000000  \n",
       "max                 1.000000  "
      ]
     },
     "execution_count": 53,
     "metadata": {},
     "output_type": "execute_result"
    }
   ],
   "source": [
    "# looking at the summary statistics\n",
    "small_df.describe()"
   ]
  },
  {
   "cell_type": "code",
   "execution_count": 54,
   "metadata": {
    "colab": {
     "base_uri": "https://localhost:8080/"
    },
    "id": "gZQo9zh7AZt8",
    "outputId": "2b0f648b-6616-4e36-ba00-64bc1047f06c"
   },
   "outputs": [
    {
     "data": {
      "text/plain": [
       "id                           0\n",
       "price                        0\n",
       "year                        66\n",
       "odometer                  3271\n",
       "cylinders                10898\n",
       "transmission               126\n",
       "drive                     8486\n",
       "type                      7094\n",
       "paint_color               8585\n",
       "size                     21039\n",
       "title_status               140\n",
       "condition                11750\n",
       "fuel                       210\n",
       "state                      403\n",
       "manufacturer               973\n",
       "description_length         782\n",
       "description_credit           0\n",
       "description_owner            0\n",
       "description_badcredit        0\n",
       "dtype: int64"
      ]
     },
     "execution_count": 54,
     "metadata": {},
     "output_type": "execute_result"
    }
   ],
   "source": [
    "# missing values in the small dataset\n",
    "small_df.isna().sum()"
   ]
  },
  {
   "cell_type": "code",
   "execution_count": 55,
   "metadata": {
    "colab": {
     "base_uri": "https://localhost:8080/",
     "height": 288
    },
    "id": "DQ03bd7PAUin",
    "outputId": "3f0be080-f61f-4bd5-936f-288c5efa48d0"
   },
   "outputs": [
    {
     "data": {
      "text/html": [
       "<div>\n",
       "<style scoped>\n",
       "    .dataframe tbody tr th:only-of-type {\n",
       "        vertical-align: middle;\n",
       "    }\n",
       "\n",
       "    .dataframe tbody tr th {\n",
       "        vertical-align: top;\n",
       "    }\n",
       "\n",
       "    .dataframe thead th {\n",
       "        text-align: right;\n",
       "    }\n",
       "</style>\n",
       "<table border=\"1\" class=\"dataframe\">\n",
       "  <thead>\n",
       "    <tr style=\"text-align: right;\">\n",
       "      <th></th>\n",
       "      <th>id</th>\n",
       "      <th>price</th>\n",
       "      <th>year</th>\n",
       "      <th>odometer</th>\n",
       "      <th>cylinders</th>\n",
       "      <th>description_length</th>\n",
       "      <th>description_credit</th>\n",
       "      <th>description_owner</th>\n",
       "      <th>description_badcredit</th>\n",
       "    </tr>\n",
       "  </thead>\n",
       "  <tbody>\n",
       "    <tr>\n",
       "      <th>count</th>\n",
       "      <td>3.000000e+05</td>\n",
       "      <td>300000.000000</td>\n",
       "      <td>299376.000000</td>\n",
       "      <td>267456.000000</td>\n",
       "      <td>191090.000000</td>\n",
       "      <td>292201.000000</td>\n",
       "      <td>300000.000000</td>\n",
       "      <td>300000.000000</td>\n",
       "      <td>300000.000000</td>\n",
       "    </tr>\n",
       "    <tr>\n",
       "      <th>mean</th>\n",
       "      <td>7.235226e+09</td>\n",
       "      <td>15863.518507</td>\n",
       "      <td>2010.629423</td>\n",
       "      <td>94386.056742</td>\n",
       "      <td>5.888874</td>\n",
       "      <td>2379.174883</td>\n",
       "      <td>0.412167</td>\n",
       "      <td>0.186263</td>\n",
       "      <td>0.155067</td>\n",
       "    </tr>\n",
       "    <tr>\n",
       "      <th>std</th>\n",
       "      <td>4.595326e+06</td>\n",
       "      <td>11112.310328</td>\n",
       "      <td>8.771992</td>\n",
       "      <td>61497.290868</td>\n",
       "      <td>1.596020</td>\n",
       "      <td>2146.833466</td>\n",
       "      <td>0.492226</td>\n",
       "      <td>0.389320</td>\n",
       "      <td>0.361969</td>\n",
       "    </tr>\n",
       "    <tr>\n",
       "      <th>min</th>\n",
       "      <td>7.208550e+09</td>\n",
       "      <td>2000.000000</td>\n",
       "      <td>1900.000000</td>\n",
       "      <td>0.000000</td>\n",
       "      <td>3.000000</td>\n",
       "      <td>0.000000</td>\n",
       "      <td>0.000000</td>\n",
       "      <td>0.000000</td>\n",
       "      <td>0.000000</td>\n",
       "    </tr>\n",
       "    <tr>\n",
       "      <th>25%</th>\n",
       "      <td>7.231949e+09</td>\n",
       "      <td>6900.000000</td>\n",
       "      <td>2008.000000</td>\n",
       "      <td>42971.750000</td>\n",
       "      <td>4.000000</td>\n",
       "      <td>439.000000</td>\n",
       "      <td>0.000000</td>\n",
       "      <td>0.000000</td>\n",
       "      <td>0.000000</td>\n",
       "    </tr>\n",
       "    <tr>\n",
       "      <th>50%</th>\n",
       "      <td>7.236401e+09</td>\n",
       "      <td>12991.000000</td>\n",
       "      <td>2013.000000</td>\n",
       "      <td>90054.500000</td>\n",
       "      <td>6.000000</td>\n",
       "      <td>1828.000000</td>\n",
       "      <td>0.000000</td>\n",
       "      <td>0.000000</td>\n",
       "      <td>0.000000</td>\n",
       "    </tr>\n",
       "    <tr>\n",
       "      <th>75%</th>\n",
       "      <td>7.239318e+09</td>\n",
       "      <td>22900.000000</td>\n",
       "      <td>2016.000000</td>\n",
       "      <td>135166.000000</td>\n",
       "      <td>8.000000</td>\n",
       "      <td>4160.000000</td>\n",
       "      <td>1.000000</td>\n",
       "      <td>0.000000</td>\n",
       "      <td>0.000000</td>\n",
       "    </tr>\n",
       "    <tr>\n",
       "      <th>max</th>\n",
       "      <td>7.241019e+09</td>\n",
       "      <td>50000.000000</td>\n",
       "      <td>2021.000000</td>\n",
       "      <td>500000.000000</td>\n",
       "      <td>12.000000</td>\n",
       "      <td>9999.000000</td>\n",
       "      <td>1.000000</td>\n",
       "      <td>1.000000</td>\n",
       "      <td>1.000000</td>\n",
       "    </tr>\n",
       "  </tbody>\n",
       "</table>\n",
       "</div>"
      ],
      "text/plain": [
       "                 id          price           year       odometer  \\\n",
       "count  3.000000e+05  300000.000000  299376.000000  267456.000000   \n",
       "mean   7.235226e+09   15863.518507    2010.629423   94386.056742   \n",
       "std    4.595326e+06   11112.310328       8.771992   61497.290868   \n",
       "min    7.208550e+09    2000.000000    1900.000000       0.000000   \n",
       "25%    7.231949e+09    6900.000000    2008.000000   42971.750000   \n",
       "50%    7.236401e+09   12991.000000    2013.000000   90054.500000   \n",
       "75%    7.239318e+09   22900.000000    2016.000000  135166.000000   \n",
       "max    7.241019e+09   50000.000000    2021.000000  500000.000000   \n",
       "\n",
       "           cylinders  description_length  description_credit  \\\n",
       "count  191090.000000       292201.000000       300000.000000   \n",
       "mean        5.888874         2379.174883            0.412167   \n",
       "std         1.596020         2146.833466            0.492226   \n",
       "min         3.000000            0.000000            0.000000   \n",
       "25%         4.000000          439.000000            0.000000   \n",
       "50%         6.000000         1828.000000            0.000000   \n",
       "75%         8.000000         4160.000000            1.000000   \n",
       "max        12.000000         9999.000000            1.000000   \n",
       "\n",
       "       description_owner  description_badcredit  \n",
       "count      300000.000000          300000.000000  \n",
       "mean            0.186263               0.155067  \n",
       "std             0.389320               0.361969  \n",
       "min             0.000000               0.000000  \n",
       "25%             0.000000               0.000000  \n",
       "50%             0.000000               0.000000  \n",
       "75%             0.000000               0.000000  \n",
       "max             1.000000               1.000000  "
      ]
     },
     "execution_count": 55,
     "metadata": {},
     "output_type": "execute_result"
    }
   ],
   "source": [
    "# looking at the summary statistics\n",
    "large_df.describe()"
   ]
  },
  {
   "cell_type": "code",
   "execution_count": 56,
   "metadata": {
    "colab": {
     "base_uri": "https://localhost:8080/"
    },
    "id": "uwuf_G4LAfHR",
    "outputId": "d3b86b77-04ca-4f43-a36f-4573d898de2a"
   },
   "outputs": [
    {
     "data": {
      "text/plain": [
       "id                            0\n",
       "price                         0\n",
       "year                        624\n",
       "odometer                  32544\n",
       "cylinders                108910\n",
       "transmission               1344\n",
       "drive                     85050\n",
       "type                      71880\n",
       "paint_color               85871\n",
       "size                     210274\n",
       "title_status               1398\n",
       "condition                117743\n",
       "fuel                       1931\n",
       "state                      3787\n",
       "manufacturer              10045\n",
       "description_length         7799\n",
       "description_credit            0\n",
       "description_owner             0\n",
       "description_badcredit         0\n",
       "dtype: int64"
      ]
     },
     "execution_count": 56,
     "metadata": {},
     "output_type": "execute_result"
    }
   ],
   "source": [
    "# missing values in the large dataset\n",
    "large_df.isna().sum()"
   ]
  },
  {
   "cell_type": "markdown",
   "metadata": {
    "id": "wGdJ41G7gUCg"
   },
   "source": [
    "# Defining Preprocessing Functions"
   ]
  },
  {
   "cell_type": "code",
   "execution_count": 57,
   "metadata": {
    "id": "dWvpzCzAii1-"
   },
   "outputs": [],
   "source": [
    "def missing_value_impute(df):\n",
    "  # let's create a dummy variable column for missing values by iterating through all columns\n",
    "  # creating list to contain missing row indices\n",
    "  missing_row = []\n",
    "\n",
    "  # iterates through each row of large dataset\n",
    "  for index, row in df.iterrows():\n",
    "      \n",
    "      # checks each column to see if there are any missing values\n",
    "      missing_series = row.isnull()\n",
    "\n",
    "      # if any of the columns return true, add to our missing row list\n",
    "      if missing_series.any():\n",
    "          missing_row.append(index)\n",
    "  \n",
    "  # adding the dummy variable column\n",
    "  df.loc[missing_row, 'missing_value'] = 1\n",
    "\n",
    "  # fill the dummy variable columns w/ 0 for rows w/ non-missing data\n",
    "  df['missing_value'] = df['missing_value'].fillna(0)\n",
    "\n",
    "  # creating a list for categorical and numerical values\n",
    "  num_col = ['price', 'year', 'odometer', 'cylinders', 'description_length']\n",
    "\n",
    "  cat_col = ['transmission', 'drive', 'type', 'paint_color',\n",
    "            'size', 'title_status', 'condition', 'fuel',\n",
    "            'state', 'manufacturer', 'description_credit',\n",
    "             'description_owner', 'description_badcredit', 'missing_value']\n",
    "\n",
    "  # imputing the missing values using the mean for numerical columns and mode for categorical\n",
    "  # use for loop to loop through all columns\n",
    "  for col in df.columns[1:]:\n",
    "    if col in num_col:\n",
    "      df[col] = df[col].fillna(df[col].mean())\n",
    "    elif col in cat_col:\n",
    "      df[col] = df[col].fillna(df[col].mode().values[0])"
   ]
  },
  {
   "cell_type": "code",
   "execution_count": 58,
   "metadata": {
    "id": "3Tt9Prisjg3T"
   },
   "outputs": [],
   "source": [
    "missing_value_impute(large_df)"
   ]
  },
  {
   "cell_type": "code",
   "execution_count": 59,
   "metadata": {
    "id": "M7X8MVKr4OtZ"
   },
   "outputs": [],
   "source": [
    "# construct dummy variable for below $12,000\n",
    "large_df['price_target'] = large_df['price'].apply(lambda x: 1 if x < 12000 else 0)"
   ]
  },
  {
   "cell_type": "code",
   "execution_count": 60,
   "metadata": {
    "id": "Y892LR9lhebL"
   },
   "outputs": [],
   "source": [
    "# list of numerical and categorical columns\n",
    "num_col = ['year', 'odometer', 'cylinders', 'description_length']\n",
    "\n",
    "cat_col = ['transmission', 'drive', 'type', 'paint_color',\n",
    "          'size', 'title_status', 'condition', 'fuel',\n",
    "          'state', 'manufacturer', 'description_credit',\n",
    "            'description_owner', 'description_badcredit', 'missing_value']"
   ]
  },
  {
   "cell_type": "code",
   "execution_count": 61,
   "metadata": {
    "colab": {
     "base_uri": "https://localhost:8080/"
    },
    "id": "r6Rx0Y03-8rN",
    "outputId": "432dd2c2-82d3-4b69-b38d-819a87f30424"
   },
   "outputs": [
    {
     "data": {
      "text/plain": [
       "['transmission',\n",
       " 'drive',\n",
       " 'type',\n",
       " 'paint_color',\n",
       " 'size',\n",
       " 'title_status',\n",
       " 'condition',\n",
       " 'fuel',\n",
       " 'state',\n",
       " 'manufacturer']"
      ]
     },
     "execution_count": 61,
     "metadata": {},
     "output_type": "execute_result"
    }
   ],
   "source": [
    "# only want the categorical columns up to manufacturer, description columns already dummied\n",
    "cat_col[:10]"
   ]
  },
  {
   "cell_type": "code",
   "execution_count": 62,
   "metadata": {
    "id": "YeT1wy-lHUj1"
   },
   "outputs": [],
   "source": [
    "def get_dummies(df):\n",
    "  '''\n",
    "  This function takes the train/test dataset and creates dummy variables for the known categorical variables.\n",
    "  '''\n",
    "  # using pandas get dummies function to create dummy variables for each categorical item\n",
    "  dummy_df = pd.get_dummies(df[cat_col[:10]])\n",
    "\n",
    "  # saving dummy feature names to list\n",
    "  dummy_features = list(dummy_df.columns)\n",
    "\n",
    "  # merging original df w/ the new dummy variable columns\n",
    "  new_df = df.merge(dummy_df, left_index=True, right_index=True)\n",
    "\n",
    "  # return/output the new merged df and the dummy feature column names\n",
    "  return new_df, dummy_features"
   ]
  },
  {
   "cell_type": "code",
   "execution_count": 63,
   "metadata": {
    "id": "dTvWS98DK0kJ"
   },
   "outputs": [],
   "source": [
    "# using function to create new large df and the list of dummy column names\n",
    "new_large_df, dummy_col = get_dummies(large_df)"
   ]
  },
  {
   "cell_type": "code",
   "execution_count": 64,
   "metadata": {
    "colab": {
     "base_uri": "https://localhost:8080/",
     "height": 351
    },
    "id": "B_gr-AXhcKLR",
    "outputId": "f95f68bc-1cd3-420b-a63b-422fa5aee2eb",
    "scrolled": true
   },
   "outputs": [
    {
     "data": {
      "text/html": [
       "<div>\n",
       "<style scoped>\n",
       "    .dataframe tbody tr th:only-of-type {\n",
       "        vertical-align: middle;\n",
       "    }\n",
       "\n",
       "    .dataframe tbody tr th {\n",
       "        vertical-align: top;\n",
       "    }\n",
       "\n",
       "    .dataframe thead th {\n",
       "        text-align: right;\n",
       "    }\n",
       "</style>\n",
       "<table border=\"1\" class=\"dataframe\">\n",
       "  <thead>\n",
       "    <tr style=\"text-align: right;\">\n",
       "      <th></th>\n",
       "      <th>id</th>\n",
       "      <th>price</th>\n",
       "      <th>year</th>\n",
       "      <th>odometer</th>\n",
       "      <th>cylinders</th>\n",
       "      <th>transmission</th>\n",
       "      <th>drive</th>\n",
       "      <th>type</th>\n",
       "      <th>paint_color</th>\n",
       "      <th>size</th>\n",
       "      <th>...</th>\n",
       "      <th>manufacturer_pontiac</th>\n",
       "      <th>manufacturer_porsche</th>\n",
       "      <th>manufacturer_ram</th>\n",
       "      <th>manufacturer_rover</th>\n",
       "      <th>manufacturer_saturn</th>\n",
       "      <th>manufacturer_subaru</th>\n",
       "      <th>manufacturer_tesla</th>\n",
       "      <th>manufacturer_toyota</th>\n",
       "      <th>manufacturer_volkswagen</th>\n",
       "      <th>manufacturer_volvo</th>\n",
       "    </tr>\n",
       "  </thead>\n",
       "  <tbody>\n",
       "    <tr>\n",
       "      <th>0</th>\n",
       "      <td>7234568651</td>\n",
       "      <td>44989</td>\n",
       "      <td>2015.0</td>\n",
       "      <td>71639.0</td>\n",
       "      <td>8.000000</td>\n",
       "      <td>automatic</td>\n",
       "      <td>4wd</td>\n",
       "      <td>truck</td>\n",
       "      <td>white</td>\n",
       "      <td>full-size</td>\n",
       "      <td>...</td>\n",
       "      <td>0</td>\n",
       "      <td>0</td>\n",
       "      <td>0</td>\n",
       "      <td>0</td>\n",
       "      <td>0</td>\n",
       "      <td>0</td>\n",
       "      <td>0</td>\n",
       "      <td>0</td>\n",
       "      <td>0</td>\n",
       "      <td>0</td>\n",
       "    </tr>\n",
       "    <tr>\n",
       "      <th>1</th>\n",
       "      <td>7229694925</td>\n",
       "      <td>39988</td>\n",
       "      <td>2017.0</td>\n",
       "      <td>108531.0</td>\n",
       "      <td>5.888874</td>\n",
       "      <td>automatic</td>\n",
       "      <td>4wd</td>\n",
       "      <td>other</td>\n",
       "      <td>silver</td>\n",
       "      <td>full-size</td>\n",
       "      <td>...</td>\n",
       "      <td>0</td>\n",
       "      <td>0</td>\n",
       "      <td>0</td>\n",
       "      <td>0</td>\n",
       "      <td>0</td>\n",
       "      <td>0</td>\n",
       "      <td>0</td>\n",
       "      <td>0</td>\n",
       "      <td>0</td>\n",
       "      <td>0</td>\n",
       "    </tr>\n",
       "    <tr>\n",
       "      <th>2</th>\n",
       "      <td>7237581553</td>\n",
       "      <td>25990</td>\n",
       "      <td>2017.0</td>\n",
       "      <td>48931.0</td>\n",
       "      <td>5.888874</td>\n",
       "      <td>automatic</td>\n",
       "      <td>4wd</td>\n",
       "      <td>other</td>\n",
       "      <td>blue</td>\n",
       "      <td>full-size</td>\n",
       "      <td>...</td>\n",
       "      <td>0</td>\n",
       "      <td>0</td>\n",
       "      <td>0</td>\n",
       "      <td>0</td>\n",
       "      <td>0</td>\n",
       "      <td>0</td>\n",
       "      <td>0</td>\n",
       "      <td>1</td>\n",
       "      <td>0</td>\n",
       "      <td>0</td>\n",
       "    </tr>\n",
       "    <tr>\n",
       "      <th>3</th>\n",
       "      <td>7235261085</td>\n",
       "      <td>18990</td>\n",
       "      <td>2011.0</td>\n",
       "      <td>97792.0</td>\n",
       "      <td>8.000000</td>\n",
       "      <td>other</td>\n",
       "      <td>4wd</td>\n",
       "      <td>sedan</td>\n",
       "      <td>white</td>\n",
       "      <td>full-size</td>\n",
       "      <td>...</td>\n",
       "      <td>0</td>\n",
       "      <td>0</td>\n",
       "      <td>0</td>\n",
       "      <td>0</td>\n",
       "      <td>0</td>\n",
       "      <td>0</td>\n",
       "      <td>0</td>\n",
       "      <td>0</td>\n",
       "      <td>0</td>\n",
       "      <td>0</td>\n",
       "    </tr>\n",
       "    <tr>\n",
       "      <th>4</th>\n",
       "      <td>7235871752</td>\n",
       "      <td>39995</td>\n",
       "      <td>2017.0</td>\n",
       "      <td>121365.0</td>\n",
       "      <td>5.888874</td>\n",
       "      <td>automatic</td>\n",
       "      <td>4wd</td>\n",
       "      <td>sedan</td>\n",
       "      <td>white</td>\n",
       "      <td>full-size</td>\n",
       "      <td>...</td>\n",
       "      <td>0</td>\n",
       "      <td>0</td>\n",
       "      <td>0</td>\n",
       "      <td>0</td>\n",
       "      <td>0</td>\n",
       "      <td>0</td>\n",
       "      <td>0</td>\n",
       "      <td>0</td>\n",
       "      <td>0</td>\n",
       "      <td>0</td>\n",
       "    </tr>\n",
       "  </tbody>\n",
       "</table>\n",
       "<p>5 rows × 166 columns</p>\n",
       "</div>"
      ],
      "text/plain": [
       "           id  price    year  odometer  cylinders transmission drive   type  \\\n",
       "0  7234568651  44989  2015.0   71639.0   8.000000    automatic   4wd  truck   \n",
       "1  7229694925  39988  2017.0  108531.0   5.888874    automatic   4wd  other   \n",
       "2  7237581553  25990  2017.0   48931.0   5.888874    automatic   4wd  other   \n",
       "3  7235261085  18990  2011.0   97792.0   8.000000        other   4wd  sedan   \n",
       "4  7235871752  39995  2017.0  121365.0   5.888874    automatic   4wd  sedan   \n",
       "\n",
       "  paint_color       size  ... manufacturer_pontiac manufacturer_porsche  \\\n",
       "0       white  full-size  ...                    0                    0   \n",
       "1      silver  full-size  ...                    0                    0   \n",
       "2        blue  full-size  ...                    0                    0   \n",
       "3       white  full-size  ...                    0                    0   \n",
       "4       white  full-size  ...                    0                    0   \n",
       "\n",
       "  manufacturer_ram manufacturer_rover manufacturer_saturn  \\\n",
       "0                0                  0                   0   \n",
       "1                0                  0                   0   \n",
       "2                0                  0                   0   \n",
       "3                0                  0                   0   \n",
       "4                0                  0                   0   \n",
       "\n",
       "   manufacturer_subaru  manufacturer_tesla  manufacturer_toyota  \\\n",
       "0                    0                   0                    0   \n",
       "1                    0                   0                    0   \n",
       "2                    0                   0                    1   \n",
       "3                    0                   0                    0   \n",
       "4                    0                   0                    0   \n",
       "\n",
       "   manufacturer_volkswagen  manufacturer_volvo  \n",
       "0                        0                   0  \n",
       "1                        0                   0  \n",
       "2                        0                   0  \n",
       "3                        0                   0  \n",
       "4                        0                   0  \n",
       "\n",
       "[5 rows x 166 columns]"
      ]
     },
     "execution_count": 64,
     "metadata": {},
     "output_type": "execute_result"
    }
   ],
   "source": [
    "# previewing new data set, it has 166 columns now counting non-dummy features\n",
    "new_large_df.head()"
   ]
  },
  {
   "cell_type": "code",
   "execution_count": 65,
   "metadata": {
    "id": "tjBEOKLIlB4R"
   },
   "outputs": [],
   "source": [
    "# Set X and y\n",
    "X = new_large_df.loc[:, num_col + dummy_col]\n",
    "y = new_large_df['price_target']\n",
    "\n",
    "# splitting the data into train and test\n",
    "X_train, X_test, y_train, y_test = train_test_split(X, y, train_size=0.7, random_state=42)"
   ]
  },
  {
   "cell_type": "markdown",
   "metadata": {
    "id": "IKfs8679K2Ds"
   },
   "source": [
    "# Logistic Regression"
   ]
  },
  {
   "cell_type": "code",
   "execution_count": 43,
   "metadata": {
    "colab": {
     "base_uri": "https://localhost:8080/"
    },
    "id": "uu6lzuqCK4WM",
    "outputId": "e7932b32-e7c0-4a77-b04f-058fa52edb3e"
   },
   "outputs": [
    {
     "name": "stdout",
     "output_type": "stream",
     "text": [
      "Log model Cross Val Score: 0.7738285714285714\n"
     ]
    }
   ],
   "source": [
    "# create logistic regression model\n",
    "log_model = LogisticRegression()\n",
    "\n",
    "# try cross val score\n",
    "score = cross_val_score(log_model, X_train, y_train).mean()\n",
    "\n",
    "# display score\n",
    "\n",
    "print(f'Log model Cross Val Score: {score}')"
   ]
  },
  {
   "cell_type": "code",
   "execution_count": 44,
   "metadata": {
    "colab": {
     "base_uri": "https://localhost:8080/"
    },
    "id": "6cjJiYdepl2D",
    "outputId": "6aabbc72-c004-43b1-affe-a15f886c78a5"
   },
   "outputs": [
    {
     "data": {
      "text/plain": [
       "LogisticRegression()"
      ]
     },
     "execution_count": 44,
     "metadata": {},
     "output_type": "execute_result"
    }
   ],
   "source": [
    "# create logistic regression model\n",
    "log_model = LogisticRegression()\n",
    "\n",
    "# fit logistic regression model\n",
    "log_model.fit(X_train, y_train)"
   ]
  },
  {
   "cell_type": "code",
   "execution_count": 45,
   "metadata": {
    "colab": {
     "base_uri": "https://localhost:8080/"
    },
    "id": "yTzm9g4vLFTZ",
    "outputId": "6865ced1-cba7-4657-c6d0-c313dd58d5d7"
   },
   "outputs": [
    {
     "name": "stdout",
     "output_type": "stream",
     "text": [
      "Log Model Training Accuracy Score: 0.7603619047619048\n"
     ]
    }
   ],
   "source": [
    "# train accuracy score\n",
    "log_train_accuracy = log_model.score(X_train, y_train)\n",
    "\n",
    "# display training accuracy score\n",
    "print(f'Log Model Training Accuracy Score: {log_train_accuracy}')"
   ]
  },
  {
   "cell_type": "code",
   "execution_count": 46,
   "metadata": {
    "colab": {
     "base_uri": "https://localhost:8080/"
    },
    "id": "OmIYUJGfLLu3",
    "outputId": "c0e10cf2-323b-49d4-cd3e-41ad2e0534bf"
   },
   "outputs": [
    {
     "name": "stdout",
     "output_type": "stream",
     "text": [
      "Log Model Training Accuracy Score: 0.7597555555555555\n"
     ]
    }
   ],
   "source": [
    "# testing accuracy score\n",
    "log_test_accuracy = log_model.score(X_test, y_test)\n",
    "\n",
    "# display test accuracy score\n",
    "print(f'Log Model Training Accuracy Score: {log_test_accuracy}')"
   ]
  },
  {
   "cell_type": "markdown",
   "metadata": {
    "id": "uJ_Gg-TTKiLv"
   },
   "source": [
    "# Decision Tree Classifier"
   ]
  },
  {
   "cell_type": "code",
   "execution_count": 47,
   "metadata": {
    "colab": {
     "base_uri": "https://localhost:8080/"
    },
    "id": "1X3N4PMikSRL",
    "outputId": "11ddff68-f872-46af-eec7-22e2369cfac5"
   },
   "outputs": [
    {
     "data": {
      "text/plain": [
       "DecisionTreeClassifier()"
      ]
     },
     "execution_count": 47,
     "metadata": {},
     "output_type": "execute_result"
    }
   ],
   "source": [
    "# create decision tree model\n",
    "dt_model = DecisionTreeClassifier()\n",
    "\n",
    "# fit decision tree model\n",
    "dt_model.fit(X_train, y_train)"
   ]
  },
  {
   "cell_type": "code",
   "execution_count": 48,
   "metadata": {
    "colab": {
     "base_uri": "https://localhost:8080/"
    },
    "id": "myUFqH3vyko6",
    "outputId": "421ad69d-0ad9-4762-f649-15b0a8781c13"
   },
   "outputs": [
    {
     "name": "stdout",
     "output_type": "stream",
     "text": [
      "DT Model Training Accuracy Score: 0.9997142857142857\n"
     ]
    }
   ],
   "source": [
    "# train accuracy score\n",
    "dt_train_accuracy = dt_model.score(X_train, y_train)\n",
    "\n",
    "# display training accuracy score\n",
    "print(f'DT Model Training Accuracy Score: {dt_train_accuracy}')"
   ]
  },
  {
   "cell_type": "code",
   "execution_count": 55,
   "metadata": {
    "colab": {
     "base_uri": "https://localhost:8080/"
    },
    "id": "TWbs9fu4yqKX",
    "outputId": "1a2709f0-8c48-49f1-d83d-ae95c7aa65ee"
   },
   "outputs": [
    {
     "name": "stdout",
     "output_type": "stream",
     "text": [
      "DT Model Test Accuracy Score: 0.8935\n"
     ]
    }
   ],
   "source": [
    "# testing accuracy score\n",
    "dt_test_accuracy = dt_model.score(X_test, y_test)\n",
    "\n",
    "# display test accuracy score\n",
    "print(f'DT Model Test Accuracy Score: {dt_test_accuracy}')"
   ]
  },
  {
   "cell_type": "code",
   "execution_count": 50,
   "metadata": {
    "id": "ZNuTonBrNIOI"
   },
   "outputs": [
    {
     "data": {
      "text/plain": [
       "GridSearchCV(estimator=DecisionTreeClassifier(),\n",
       "             param_grid={'max_depth': range(1, 20, 2),\n",
       "                         'max_features': [None, 'auto'],\n",
       "                         'min_samples_leaf': [1, 2, 5, 10]})"
      ]
     },
     "execution_count": 50,
     "metadata": {},
     "output_type": "execute_result"
    }
   ],
   "source": [
    "# try using grid search to find better parameters\n",
    "from sklearn.model_selection import GridSearchCV\n",
    "\n",
    "# create decision tree model\n",
    "dt_model = DecisionTreeClassifier()\n",
    "\n",
    "# define parameters to test\n",
    "parameters = {'max_depth':range(1,20,2),\n",
    "              'min_samples_leaf':[1, 2, 5, 10],\n",
    "              'max_features':[None,'auto']\n",
    "              }\n",
    "\n",
    "# creat grid search to find best parameter\n",
    "clf = GridSearchCV(dt_model, parameters)\n",
    "\n",
    "# fitting our grid search model\n",
    "clf.fit(X_train, y_train)"
   ]
  },
  {
   "cell_type": "code",
   "execution_count": 51,
   "metadata": {
    "colab": {
     "base_uri": "https://localhost:8080/"
    },
    "id": "iyqhECrfzpwK",
    "outputId": "10100a07-7777-4572-8e03-277a2016631e"
   },
   "outputs": [
    {
     "name": "stdout",
     "output_type": "stream",
     "text": [
      "Best DT Model Parameters: {'max_depth': 19, 'max_features': None, 'min_samples_leaf': 1}\n"
     ]
    }
   ],
   "source": [
    "# storing best parameter\n",
    "best_param = clf.best_params_\n",
    "\n",
    "# display best parameter\n",
    "print(f'Best DT Model Parameters: {best_param}')"
   ]
  },
  {
   "cell_type": "code",
   "execution_count": 56,
   "metadata": {
    "colab": {
     "base_uri": "https://localhost:8080/"
    },
    "id": "QSMXwZRXb625",
    "outputId": "49936853-87f1-4f28-e6ec-1bfe6920d7a3"
   },
   "outputs": [
    {
     "data": {
      "text/plain": [
       "DecisionTreeClassifier(max_depth=19)"
      ]
     },
     "execution_count": 56,
     "metadata": {},
     "output_type": "execute_result"
    }
   ],
   "source": [
    "# use the parameters from above to create decision tree model\n",
    "# create decision tree model\n",
    "dt_model = DecisionTreeClassifier(max_depth=19,\n",
    "                                  min_samples_leaf=1)\n",
    "\n",
    "# fit decision tree model\n",
    "dt_model.fit(X_train, y_train)"
   ]
  },
  {
   "cell_type": "code",
   "execution_count": 57,
   "metadata": {
    "colab": {
     "base_uri": "https://localhost:8080/"
    },
    "id": "L04A5biV0apX",
    "outputId": "df4a53da-8b19-4930-d979-0834d5dd55b6"
   },
   "outputs": [
    {
     "name": "stdout",
     "output_type": "stream",
     "text": [
      "DT Model Training Accuracy Score: 0.9566428571428571\n"
     ]
    }
   ],
   "source": [
    "# train accuracy score\n",
    "dt_train_accuracy = dt_model.score(X_train, y_train)\n",
    "\n",
    "# display training accuracy score\n",
    "print(f'DT Model Training Accuracy Score: {dt_train_accuracy}')"
   ]
  },
  {
   "cell_type": "code",
   "execution_count": 58,
   "metadata": {
    "colab": {
     "base_uri": "https://localhost:8080/"
    },
    "id": "yqO-ep5Q0apY",
    "outputId": "b9be1809-ce27-4d3c-e926-85c172c28aea"
   },
   "outputs": [
    {
     "name": "stdout",
     "output_type": "stream",
     "text": [
      "DT Model Test Accuracy Score: 0.9019\n"
     ]
    }
   ],
   "source": [
    "# testing accuracy score\n",
    "dt_test_accuracy = dt_model.score(X_test, y_test)\n",
    "\n",
    "# display test accuracy score\n",
    "print(f'DT Model Test Accuracy Score: {dt_test_accuracy}')"
   ]
  },
  {
   "cell_type": "markdown",
   "metadata": {
    "id": "cjyeUua8O-5C"
   },
   "source": [
    "# KNN"
   ]
  },
  {
   "cell_type": "code",
   "execution_count": 31,
   "metadata": {
    "id": "w8eRJrfBtPpp"
   },
   "outputs": [],
   "source": [
    "# testing various K's to find the best non-overfitted value\n",
    "k_value = []\n",
    "training_accuracy = []\n",
    "testing_accuracy = []\n",
    "\n",
    "# use for-loop and cross_val_score to find the best k value\n",
    "for k in range(1, 11):\n",
    "    # add k to k_value list\n",
    "    k_value.append(k)\n",
    "\n",
    "    # create KNN model\n",
    "    knn_model = KNeighborsClassifier(n_neighbors=k)\n",
    "\n",
    "    # fit model with our X and y\n",
    "    score = cross_validate(knn_model, X_train, y_train, n_jobs=-1, return_train_score=True)\n",
    "\n",
    "    # appending average accuracy per K\n",
    "    training_accuracy.append(score['train_score'].mean())\n",
    "\n",
    "    # appending average accuracy per K\n",
    "    testing_accuracy.append(score['test_score'].mean())"
   ]
  },
  {
   "cell_type": "code",
   "execution_count": 33,
   "metadata": {
    "id": "3VpiYwmavPVq"
   },
   "outputs": [
    {
     "data": {
      "image/png": "[encoded data removed]",
      "text/plain": [
       "<Figure size 864x576 with 1 Axes>"
      ]
     },
     "metadata": {
      "needs_background": "light"
     },
     "output_type": "display_data"
    }
   ],
   "source": [
    "# plot knn_cv_score vs k_value to find best k_value\n",
    "plt.figure(figsize=(12, 8))\n",
    "plt.plot(k_value, training_accuracy)\n",
    "plt.plot(k_value, testing_accuracy)\n",
    "plt.xlabel('K Value')\n",
    "plt.ylabel('10-Fold Accuracy')\n",
    "plt.show()"
   ]
  },
  {
   "cell_type": "code",
   "execution_count": 35,
   "metadata": {},
   "outputs": [
    {
     "data": {
      "image/png": "[encoded data removed]",
      "text/plain": [
       "<Figure size 864x576 with 1 Axes>"
      ]
     },
     "metadata": {
      "needs_background": "light"
     },
     "output_type": "display_data"
    }
   ],
   "source": [
    "# plot knn_cv_score vs k_value to find best k_value\n",
    "plt.figure(figsize=(12, 8))\n",
    "plt.plot([1/k for k in k_value], [1-x for x in training_accuracy])\n",
    "plt.plot([1/k for k in k_value], [1-x for x in testing_accuracy])\n",
    "plt.xlabel('1/K')\n",
    "plt.ylabel('Error rate')\n",
    "plt.show()"
   ]
  },
  {
   "cell_type": "markdown",
   "metadata": {
    "colab": {
     "base_uri": "https://localhost:8080/"
    },
    "id": "SkiZBkBbPYAV",
    "outputId": "13777844-51bd-4366-d260-ecb89efc7b83"
   },
   "source": [
    "From the two plots above, the best value of k to use is 3 for our KNN Model."
   ]
  },
  {
   "cell_type": "code",
   "execution_count": 41,
   "metadata": {},
   "outputs": [
    {
     "data": {
      "text/plain": [
       "KNeighborsClassifier(n_neighbors=3)"
      ]
     },
     "execution_count": 41,
     "metadata": {},
     "output_type": "execute_result"
    }
   ],
   "source": [
    "# creat KNN model\n",
    "knn_model = KNeighborsClassifier(n_neighbors=3)\n",
    "\n",
    "# fit model with training data\n",
    "knn_model.fit(X_train, y_train)"
   ]
  },
  {
   "cell_type": "code",
   "execution_count": 42,
   "metadata": {},
   "outputs": [
    {
     "name": "stdout",
     "output_type": "stream",
     "text": [
      "KNN Train Set Accuracy: 0.8959904761904762\n",
      "KNN Test Set Accuracy: 0.8089444444444445\n"
     ]
    }
   ],
   "source": [
    "# display training and test accuracy\n",
    "print(f'KNN Train Set Accuracy: {knn_model.score(X_train, y_train)}')\n",
    "print(f'KNN Test Set Accuracy: {knn_model.score(X_test, y_test)}')"
   ]
  },
  {
   "cell_type": "markdown",
   "metadata": {},
   "source": [
    "## Question 1"
   ]
  },
  {
   "cell_type": "markdown",
   "metadata": {},
   "source": [
    "Our best model is the decision tree. Use the parameters from above to create decision tree model."
   ]
  },
  {
   "cell_type": "code",
   "execution_count": 66,
   "metadata": {},
   "outputs": [
    {
     "data": {
      "text/plain": [
       "DecisionTreeClassifier(max_depth=19)"
      ]
     },
     "execution_count": 66,
     "metadata": {},
     "output_type": "execute_result"
    }
   ],
   "source": [
    "# create decision tree model\n",
    "dt_model = DecisionTreeClassifier(max_depth=19,\n",
    "min_samples_leaf=1)\n",
    "\n",
    "# fit decision tree model\n",
    "dt_model.fit(X_train, y_train)"
   ]
  },
  {
   "cell_type": "code",
   "execution_count": 67,
   "metadata": {},
   "outputs": [
    {
     "name": "stdout",
     "output_type": "stream",
     "text": [
      "DT Model Training Accuracy Score: 0.9567476190476191\n"
     ]
    }
   ],
   "source": [
    "# train accuracy score\n",
    "dt_train_accuracy = dt_model.score(X_train, y_train)\n",
    "\n",
    "# display training accuracy score\n",
    "print(f'DT Model Training Accuracy Score: {dt_train_accuracy}')"
   ]
  },
  {
   "cell_type": "code",
   "execution_count": 68,
   "metadata": {},
   "outputs": [
    {
     "name": "stdout",
     "output_type": "stream",
     "text": [
      "DT Model Test Accuracy Score: 0.9023888888888889\n"
     ]
    }
   ],
   "source": [
    "# testing accuracy score\n",
    "dt_test_accuracy = dt_model.score(X_test, y_test)\n",
    "\n",
    "# display test accuracy score\n",
    "print(f'DT Model Test Accuracy Score: {dt_test_accuracy}')"
   ]
  },
  {
   "cell_type": "markdown",
   "metadata": {},
   "source": [
    "# Question 2"
   ]
  },
  {
   "cell_type": "markdown",
   "metadata": {},
   "source": [
    "Plotting a figure that demonstrates which features are most important in constructing more accurate predictions."
   ]
  },
  {
   "cell_type": "code",
   "execution_count": 69,
   "metadata": {},
   "outputs": [],
   "source": [
    "# retrieve our feature importance from the model\n",
    "feature_importance = pd.Series(dt_model.feature_importances_, index=X_train.columns).sort_values(ascending=False)"
   ]
  },
  {
   "cell_type": "code",
   "execution_count": 70,
   "metadata": {},
   "outputs": [
    {
     "data": {
      "image/png": "[encoded data removed]",
      "text/plain": [
       "<Figure size 864x576 with 1 Axes>"
      ]
     },
     "metadata": {
      "needs_background": "light"
     },
     "output_type": "display_data"
    }
   ],
   "source": [
    "# plot the feature importance\n",
    "plt.figure(figsize=(12, 8))\n",
    "plt.barh(feature_importance.index[:10], feature_importance.values[:10])\n",
    "plt.ylabel('Features')\n",
    "plt.show()"
   ]
  },
  {
   "cell_type": "markdown",
   "metadata": {},
   "source": [
    "The most important features are year of the car, odometer, description length, drive forward, cylinders, and fuel."
   ]
  },
  {
   "cell_type": "markdown",
   "metadata": {
    "id": "Mukc1qeEgpk4"
   },
   "source": [
    "# Question 3"
   ]
  },
  {
   "cell_type": "code",
   "execution_count": 71,
   "metadata": {
    "id": "fb7PD1OzWljv"
   },
   "outputs": [],
   "source": [
    "# import function used to create clusters of data points normally distributed for classification\n",
    "from sklearn.datasets import make_classification\n",
    "\n",
    "# creating simulated data set\n",
    "X_sim, y_sim = make_classification(n_samples=1000, n_features=2,\n",
    "                           n_informative=2, n_redundant=0,\n",
    "                           random_state=0, shuffle=False)"
   ]
  },
  {
   "cell_type": "code",
   "execution_count": 72,
   "metadata": {
    "colab": {
     "base_uri": "https://localhost:8080/"
    },
    "id": "jqSUgzuWXHmd",
    "outputId": "f3c5fb65-b88d-49ef-a05a-29094b2bd1fd"
   },
   "outputs": [
    {
     "name": "stdout",
     "output_type": "stream",
     "text": [
      "Wall time: 3.41 s\n"
     ]
    }
   ],
   "source": [
    "%%time\n",
    "# (1) training error decreases as model 1/K increases\n",
    "# (2) test error first decreases and then increases as 1/K increases\n",
    "\n",
    "# create lists to store 1/K, training and testing errors\n",
    "model_flexibility = []\n",
    "training_error = []\n",
    "testing_error = []\n",
    "\n",
    "# creating a loop to modify the value of k to show\n",
    "for k in range(1, 101):  \n",
    "  # add 1/K to list\n",
    "  model_flexibility.append(1/k)\n",
    "\n",
    "  # creating KNN model with varying levels of k\n",
    "  knn_model = KNeighborsClassifier(n_neighbors=k)\n",
    "  \n",
    "  # fit model with our X and y\n",
    "  score = cross_validate(knn_model, X_sim, y_sim, n_jobs=-1, return_train_score=True)\n",
    "\n",
    "  # appending average error rate per K\n",
    "  training_error.append(1 - score['train_score'].mean())\n",
    "\n",
    "  # appending average error rate per K\n",
    "  testing_error.append(1 - score['test_score'].mean())\n"
   ]
  },
  {
   "cell_type": "code",
   "execution_count": 73,
   "metadata": {
    "colab": {
     "base_uri": "https://localhost:8080/",
     "height": 388
    },
    "id": "gXnWMgeGheM2",
    "outputId": "87e88ba5-b0cc-40a3-bc1d-1ae26ba6add6"
   },
   "outputs": [
    {
     "data": {
      "image/png": "[encoded data removed]",
      "text/plain": [
       "<Figure size 1440x432 with 1 Axes>"
      ]
     },
     "metadata": {
      "needs_background": "light"
     },
     "output_type": "display_data"
    }
   ],
   "source": [
    "# plotting the scores\n",
    "plt.figure(figsize=(20, 6))\n",
    "plt.plot(model_flexibility, training_error, label = 'Training Error')\n",
    "plt.plot(model_flexibility, testing_error, label = 'Testing Error')\n",
    "\n",
    "plt.xlim((0,1))\n",
    "plt.xlabel('1/K (Model Flexibility)')\n",
    "plt.ylabel('Error Rate')\n",
    "\n",
    "plt.legend()\n",
    "plt.show()\n",
    "# plt.xticks([0, 0.01, 0.02, 0.05, 0.1, 0.2, 0.5, 1])"
   ]
  },
  {
   "cell_type": "markdown",
   "metadata": {},
   "source": [
    "# Submission 2 - Test Data Results"
   ]
  },
  {
   "cell_type": "code",
   "execution_count": 74,
   "metadata": {},
   "outputs": [],
   "source": [
    "# loading the test data set\n",
    "test_df = pd.read_csv('6Zz. final_predcomp_test_data (1).csv')"
   ]
  },
  {
   "cell_type": "code",
   "execution_count": 75,
   "metadata": {},
   "outputs": [],
   "source": [
    "# Redefining functiont to impute missing values\n",
    "def missing_value_impute(df):\n",
    "  # let's create a dummy variable column for missing values by iterating through all columns\n",
    "  # creating list to contain missing row indices\n",
    "  missing_row = []\n",
    "\n",
    "  # iterates through each row of large dataset\n",
    "  for index, row in df.iterrows():\n",
    "      \n",
    "      # checks each column to see if there are any missing values\n",
    "      missing_series = row.isnull()\n",
    "\n",
    "      # if any of the columns return true, add to our missing row list\n",
    "      if missing_series.any():\n",
    "          missing_row.append(index)\n",
    "  \n",
    "  # adding the dummy variable column\n",
    "  df.loc[missing_row, 'missing_value'] = 1\n",
    "\n",
    "  # fill the dummy variable columns w/ 0 for rows w/ non-missing data\n",
    "  df['missing_value'] = df['missing_value'].fillna(0)\n",
    "\n",
    "  # creating a list for categorical and numerical values\n",
    "  num_col = ['price', 'year', 'odometer', 'cylinders', 'description_length']\n",
    "\n",
    "  cat_col = ['transmission', 'drive', 'type', 'paint_color',\n",
    "            'size', 'title_status', 'condition', 'fuel',\n",
    "            'state', 'manufacturer', 'description_credit',\n",
    "             'description_owner', 'description_badcredit', 'missing_value']\n",
    "\n",
    "  # imputing the missing values using the mean for numerical columns and mode for categorical\n",
    "  # use for loop to loop through all columns\n",
    "  for col in df.columns[1:]:\n",
    "    if col in num_col:\n",
    "      df[col] = df[col].fillna(df[col].mean())\n",
    "    elif col in cat_col:\n",
    "      df[col] = df[col].fillna(df[col].mode().values[0])"
   ]
  },
  {
   "cell_type": "code",
   "execution_count": 76,
   "metadata": {},
   "outputs": [],
   "source": [
    "# use the created function to impute the missing values and create missing value dummy variable\n",
    "missing_value_impute(test_df)"
   ]
  },
  {
   "cell_type": "code",
   "execution_count": 77,
   "metadata": {},
   "outputs": [],
   "source": [
    "# construct dummy variable for below $12,000\n",
    "test_df['price_target'] = test_df['price'].apply(lambda x: 1 if x < 12000 else 0)"
   ]
  },
  {
   "cell_type": "code",
   "execution_count": 78,
   "metadata": {},
   "outputs": [],
   "source": [
    "# list of categorical columns\n",
    "num_col = ['year', 'odometer', 'cylinders', 'description_length']\n",
    "\n",
    "cat_col = ['transmission', 'drive', 'type', 'paint_color',\n",
    "        'size', 'title_status', 'condition', 'fuel',\n",
    "        'state', 'manufacturer', 'description_credit', 'description_owner',\n",
    "        'description_badcredit', 'missing_value']\n",
    "\n",
    "# creating a function for dummy variables \n",
    "def get_dummies(df):\n",
    "    '''\n",
    "    This function takes the train/test dataset and creates dummy variables for the known categorical variables.\n",
    "    '''\n",
    "    # using pandas get dummies function to create dummy variables for each categorical item\n",
    "    dummy_df = pd.get_dummies(df[cat_col[:10]])\n",
    "\n",
    "    # saving dummy feature names to list\n",
    "    dummy_features = list(dummy_df.columns)\n",
    "\n",
    "    # merging original df w/ the new dummy variable columns\n",
    "    new_df = df.merge(dummy_df, left_index=True, right_index=True)\n",
    "\n",
    "    # return/output the new merged df and the dummy feature column names\n",
    "    return new_df, dummy_features"
   ]
  },
  {
   "cell_type": "code",
   "execution_count": 79,
   "metadata": {},
   "outputs": [],
   "source": [
    "# using function to create new large df and the list of dummy column names\n",
    "new_test_df, dummy_col = get_dummies(test_df)"
   ]
  },
  {
   "cell_type": "code",
   "execution_count": 80,
   "metadata": {},
   "outputs": [],
   "source": [
    "# splitting the test data set into X and y\n",
    "# Set X and y\n",
    "X_testdata = new_test_df.loc[:, num_col + dummy_col]\n",
    "y_testdata = new_test_df['price_target']"
   ]
  },
  {
   "cell_type": "code",
   "execution_count": 81,
   "metadata": {},
   "outputs": [],
   "source": [
    "# Get unique list of columns from training and test data and then find the difference\n",
    "missing_cols = set(X.columns) - set(X_testdata.columns)\n",
    "\n",
    "# Add a missing column in test set with default value equal to 0\n",
    "for c in missing_cols:\n",
    "    X_testdata[c] = 0\n",
    "    \n",
    "# Ensure the order of column in the test set is in the same order as in training set\n",
    "X_testdata = X_testdata[X.columns]"
   ]
  },
  {
   "cell_type": "code",
   "execution_count": 84,
   "metadata": {},
   "outputs": [
    {
     "name": "stdout",
     "output_type": "stream",
     "text": [
      "Test data accuracy: 0.9007333333333334\n"
     ]
    }
   ],
   "source": [
    "# predicting y^ for test data\n",
    "test_predictions = dt_model.predict(X_testdata)\n",
    "\n",
    "# returning accuracy score\n",
    "print(f'Test data accuracy: {dt_model.score(X_testdata,y_testdata)}')"
   ]
  },
  {
   "cell_type": "markdown",
   "metadata": {},
   "source": [
    "# Confusion Matrix"
   ]
  },
  {
   "cell_type": "code",
   "execution_count": 88,
   "metadata": {},
   "outputs": [],
   "source": [
    "# importing confusion matrix functions from sklearn library\n",
    "from sklearn.metrics import confusion_matrix, plot_confusion_matrix"
   ]
  },
  {
   "cell_type": "markdown",
   "metadata": {},
   "source": [
    "### Training Set"
   ]
  },
  {
   "cell_type": "code",
   "execution_count": 105,
   "metadata": {
    "scrolled": true
   },
   "outputs": [
    {
     "data": {
      "image/png": "[encoded data removed]",
      "text/plain": [
       "<Figure size 432x288 with 2 Axes>"
      ]
     },
     "metadata": {
      "needs_background": "light"
     },
     "output_type": "display_data"
    }
   ],
   "source": [
    "# Plot non-normalized (count statistics) confusion matrix\n",
    "disp = plot_confusion_matrix(dt_model, X_test, y_test,\n",
    "                             display_labels=['≥ $12,000','< $12,000'],\n",
    "                             cmap=plt.cm.Blues,\n",
    "                             normalize=None)\n",
    "disp.ax_.set_title(\"Confusion Matrix for Training Data (Without Normalization)\")\n",
    "\n",
    "# print(title)\n",
    "# print(disp.confusion_matrix)\n",
    "\n",
    "plt.show()"
   ]
  },
  {
   "cell_type": "markdown",
   "metadata": {},
   "source": [
    "### Test Set"
   ]
  },
  {
   "cell_type": "code",
   "execution_count": 104,
   "metadata": {
    "scrolled": false
   },
   "outputs": [
    {
     "data": {
      "image/png": "[encoded data removed]",
      "text/plain": [
       "<Figure size 432x288 with 2 Axes>"
      ]
     },
     "metadata": {
      "needs_background": "light"
     },
     "output_type": "display_data"
    }
   ],
   "source": [
    "# Plot non-normalized (count statistics) confusion matrix\n",
    "disp = plot_confusion_matrix(dt_model, X_testdata, y_testdata,\n",
    "                             display_labels=['≥ $12,000','< $12,000'],\n",
    "                             cmap=plt.cm.Blues,\n",
    "                             normalize=None)\n",
    "disp.ax_.set_title(\"Confusion Matrix for Test Data (Without Normalization)\")\n",
    "\n",
    "# print(title)\n",
    "# print(disp.confusion_matrix)\n",
    "\n",
    "plt.show()"
   ]
  }
 ],
 "metadata": {
  "colab": {
   "collapsed_sections": [],
   "name": "Copy of Copy of Assignment3.ipynb",
   "provenance": []
  },
  "kernelspec": {
   "display_name": "Python 3",
   "language": "python",
   "name": "python3"
  },
  "language_info": {
   "codemirror_mode": {
    "name": "ipython",
    "version": 3
   },
   "file_extension": ".py",
   "mimetype": "text/x-python",
   "name": "python",
   "nbconvert_exporter": "python",
   "pygments_lexer": "ipython3",
   "version": "3.8.3"
  }
 },
 "nbformat": 4,
 "nbformat_minor": 1
}
